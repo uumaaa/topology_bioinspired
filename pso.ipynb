{
 "cells": [
  {
   "cell_type": "code",
   "execution_count": 109,
   "id": "74da435c7fc29915",
   "metadata": {
    "ExecuteTime": {
     "end_time": "2024-07-23T18:40:08.272218300Z",
     "start_time": "2024-07-23T18:40:08.260217300Z"
    },
    "collapsed": false
   },
   "outputs": [],
   "source": []
  },
  {
   "cell_type": "code",
   "execution_count": 110,
   "id": "fd34e37c3374d201",
   "metadata": {
    "ExecuteTime": {
     "end_time": "2024-07-23T18:40:08.447214300Z",
     "start_time": "2024-07-23T18:40:08.276216600Z"
    },
    "collapsed": false
   },
   "outputs": [
    {
     "name": "stdout",
     "output_type": "stream",
     "text": [
      "Iteration 1/500, Best Fitness: 43.27114261561668\n",
      "Iteration 51/500, Best Fitness: 3.2084773719908026e-10\n",
      "Iteration 101/500, Best Fitness: 3.0961800542718656e-21\n",
      "Iteration 151/500, Best Fitness: 2.4620757736293143e-31\n",
      "Iteration 201/500, Best Fitness: 1.3193265554349504e-40\n",
      "Iteration 251/500, Best Fitness: 7.433561487570835e-51\n",
      "Iteration 301/500, Best Fitness: 2.5380379218339713e-63\n",
      "Iteration 351/500, Best Fitness: 2.1148217327281367e-72\n",
      "Iteration 401/500, Best Fitness: 3.772199056132291e-82\n",
      "Iteration 451/500, Best Fitness: 3.677420744347912e-91\n",
      "Best Position: [ 9.54804215e-51 -4.27684509e-51 -6.92777743e-51], Best Fitness: 1.5745061282718557e-100\n"
     ]
    }
   ],
   "source": []
  }
 ],
 "metadata": {
  "kernelspec": {
   "display_name": "Python 3",
   "language": "python",
   "name": "python3"
  },
  "language_info": {
   "codemirror_mode": {
    "name": "ipython",
    "version": 2
   },
   "file_extension": ".py",
   "mimetype": "text/x-python",
   "name": "python",
   "nbconvert_exporter": "python",
   "pygments_lexer": "ipython2",
   "version": "2.7.6"
  }
 },
 "nbformat": 4,
 "nbformat_minor": 5
}
