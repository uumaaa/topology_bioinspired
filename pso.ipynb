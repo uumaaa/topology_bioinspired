{
 "cells": [
  {
   "cell_type": "code",
   "outputs": [],
   "source": [
    "import numpy as np\n",
    "from typing import Callable, List, Tuple\n",
    "\n",
    "class Particle:\n",
    "    def __init__(self, bounds: List[Tuple[float, float]], optimize_for: str = \"min\") -> None:\n",
    "        self.position: np.ndarray = np.array([np.random.uniform(low, high) for low, high in bounds])\n",
    "        self.velocity: np.ndarray = np.random.rand(len(bounds))  # Inicializar velocidad aleatoriamente\n",
    "        self.best_position: np.ndarray = np.copy(self.position)  # Mejor posición conocida\n",
    "        self.best_fitness: float = float('inf') if optimize_for == \"min\" else -float('inf')  # Mejor fitness conocido\n",
    "\n",
    "    def update_velocity(self, global_best_position: np.ndarray, inertia_weight: float, cognitive_constant: float, social_constant: float) -> None:\n",
    "        r1: np.ndarray = np.random.rand(len(self.position))\n",
    "        r2: np.ndarray = np.random.rand(len(self.position))\n",
    "        cognitive_velocity: np.ndarray = cognitive_constant * r1 * (self.best_position - self.position)\n",
    "        social_velocity: np.ndarray = social_constant * r2 * (global_best_position - self.position)\n",
    "        self.velocity = inertia_weight * self.velocity + cognitive_velocity + social_velocity\n",
    "\n",
    "    def update_position(self, bounds: List[Tuple[float, float]]) -> None:\n",
    "        self.position = self.position + self.velocity\n",
    "        # Aplicar límites a las posiciones\n",
    "        for i, (low, high) in enumerate(bounds):\n",
    "            if self.position[i] < low:\n",
    "                self.position[i] = low\n",
    "            elif self.position[i] > high:\n",
    "                self.position[i] = high\n",
    "\n",
    "class ParticleSwarmOptimization:\n",
    "    def __init__(self, func: Callable[[np.ndarray], float], bounds: List[Tuple[float, float]], num_particles: int, max_iterations: int, optimize_for: str = \"min\", inertia_weight: float = 0.5, cognitive_constant: float = 1.5, social_constant: float = 1.5, print_at_iterations: int = 10):\n",
    "        self.func = func\n",
    "        self.bounds = bounds\n",
    "        self.num_particles = num_particles\n",
    "        self.max_iterations = max_iterations\n",
    "        self.optimize_for = optimize_for\n",
    "        self.inertia_weight = inertia_weight\n",
    "        self.cognitive_constant = cognitive_constant\n",
    "        self.social_constant = social_constant\n",
    "        self.print_at_iterations = print_at_iterations\n",
    "        self.swarm = [Particle(bounds, optimize_for) for _ in range(num_particles)]\n",
    "        self.global_best_position: np.ndarray = np.copy(self.swarm[0].position)\n",
    "        self.global_best_fitness: float = float('inf') if optimize_for == \"min\" else -float('inf')\n",
    "\n",
    "    def optimize(self) -> Tuple[np.ndarray, float]:\n",
    "        for i in range(self.max_iterations):\n",
    "            for particle in self.swarm:\n",
    "                fitness = self.func(particle.position)\n",
    "                if (self.optimize_for == \"min\" and fitness < particle.best_fitness) or (self.optimize_for == \"max\" and fitness > particle.best_fitness):\n",
    "                    particle.best_fitness = fitness\n",
    "                    particle.best_position = np.copy(particle.position)\n",
    "\n",
    "                if (self.optimize_for == \"min\" and fitness < self.global_best_fitness) or (self.optimize_for == \"max\" and fitness > self.global_best_fitness):\n",
    "                    self.global_best_fitness = fitness\n",
    "                    self.global_best_position = np.copy(particle.position)\n",
    "\n",
    "            for particle in self.swarm:\n",
    "                particle.update_velocity(self.global_best_position, self.inertia_weight, self.cognitive_constant, self.social_constant)\n",
    "                particle.update_position(self.bounds)\n",
    "\n",
    "            if i % self.print_at_iterations == 0:\n",
    "                print(f\"Iteration {i+1}/{self.max_iterations}, Best Fitness: {self.global_best_fitness}\")\n",
    "\n",
    "        return self.global_best_position, self.global_best_fitness\n"
   ],
   "metadata": {
    "collapsed": false,
    "ExecuteTime": {
     "end_time": "2024-07-23T18:40:08.271218100Z",
     "start_time": "2024-07-23T18:40:08.241223700Z"
    }
   },
   "id": "91706b2f45fc8a2c",
   "execution_count": 108
  },
  {
   "cell_type": "code",
   "outputs": [],
   "source": [
    "def objective_function(x: np.ndarray) -> float:\n",
    "    return np.sum(x ** 2)\n",
    "\n",
    "bounds = [(-10, 10), (-40, 4), (-20, 25)]  # Bounds for each dimension\n",
    "num_particles = 30\n",
    "max_iterations = 500"
   ],
   "metadata": {
    "collapsed": false,
    "ExecuteTime": {
     "end_time": "2024-07-23T18:40:08.272218300Z",
     "start_time": "2024-07-23T18:40:08.260217300Z"
    }
   },
   "id": "74da435c7fc29915",
   "execution_count": 109
  },
  {
   "cell_type": "code",
   "outputs": [
    {
     "name": "stdout",
     "output_type": "stream",
     "text": [
      "Iteration 1/500, Best Fitness: 43.27114261561668\n",
      "Iteration 51/500, Best Fitness: 3.2084773719908026e-10\n",
      "Iteration 101/500, Best Fitness: 3.0961800542718656e-21\n",
      "Iteration 151/500, Best Fitness: 2.4620757736293143e-31\n",
      "Iteration 201/500, Best Fitness: 1.3193265554349504e-40\n",
      "Iteration 251/500, Best Fitness: 7.433561487570835e-51\n",
      "Iteration 301/500, Best Fitness: 2.5380379218339713e-63\n",
      "Iteration 351/500, Best Fitness: 2.1148217327281367e-72\n",
      "Iteration 401/500, Best Fitness: 3.772199056132291e-82\n",
      "Iteration 451/500, Best Fitness: 3.677420744347912e-91\n",
      "Best Position: [ 9.54804215e-51 -4.27684509e-51 -6.92777743e-51], Best Fitness: 1.5745061282718557e-100\n"
     ]
    }
   ],
   "source": [
    "pso = ParticleSwarmOptimization(objective_function, bounds, num_particles, max_iterations, optimize_for=\"min\",print_at_iterations=50)\n",
    "best_position, best_fitness = pso.optimize()\n",
    "print(f\"Best Position: {best_position}, Best Fitness: {best_fitness}\")"
   ],
   "metadata": {
    "collapsed": false,
    "ExecuteTime": {
     "end_time": "2024-07-23T18:40:08.447214300Z",
     "start_time": "2024-07-23T18:40:08.276216600Z"
    }
   },
   "id": "fd34e37c3374d201",
   "execution_count": 110
  }
 ],
 "metadata": {
  "kernelspec": {
   "display_name": "Python 3",
   "language": "python",
   "name": "python3"
  },
  "language_info": {
   "codemirror_mode": {
    "name": "ipython",
    "version": 2
   },
   "file_extension": ".py",
   "mimetype": "text/x-python",
   "name": "python",
   "nbconvert_exporter": "python",
   "pygments_lexer": "ipython2",
   "version": "2.7.6"
  }
 },
 "nbformat": 4,
 "nbformat_minor": 5
}
