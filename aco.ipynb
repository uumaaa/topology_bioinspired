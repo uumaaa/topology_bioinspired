{
 "cells": [
  {
   "cell_type": "code",
   "execution_count": null,
   "id": "initial_id",
   "metadata": {
    "collapsed": true,
    "is_executing": true
   },
   "outputs": [],
   "source": [
    "import numpy as np\n",
    "from typing import List, Callable, Tuple\n",
    "\n",
    "class AntColonyOptimization:\n",
    "    def __init__(self, func: Callable[[List[Tuple[float, float]], List[int]], float], num_nodes: int, coordinates: List[Tuple[float, float]], num_ants: int, num_iterations: int, alpha: float = 1.0, beta: float = 2.0, evaporation_rate: float = 0.5, pheromone_deposit: float = 100.0, optimize_for: str = \"min\",print_at_iteration = 10):\n",
    "        self.func = func\n",
    "        self.num_nodes = num_nodes\n",
    "        self.coordinates = coordinates\n",
    "        self.num_ants = num_ants\n",
    "        self.num_iterations = num_iterations\n",
    "        self.alpha = alpha\n",
    "        self.beta = beta\n",
    "        self.evaporation_rate = evaporation_rate\n",
    "        self.pheromone_deposit = pheromone_deposit\n",
    "        self.optimize_for = optimize_for\n",
    "        self.pheromone = np.ones((num_nodes, num_nodes)) / num_nodes\n",
    "        self.best_route = None\n",
    "        self.best_distance = float('inf') if optimize_for == \"min\" else -float('inf')\n",
    "        self.print_at_iteration = print_at_iteration\n",
    "\n",
    "    def run(self) -> Tuple[List[int], float]:\n",
    "        for iteration in range(self.num_iterations):\n",
    "            all_routes = self.construct_solutions()\n",
    "            self.update_pheromones(all_routes)\n",
    "            for route in all_routes:\n",
    "                distance = self.func(self.coordinates, route)\n",
    "                if (self.optimize_for == \"min\" and distance < self.best_distance) or (self.optimize_for == \"max\" and distance > self.best_distance):\n",
    "                    self.best_distance = distance\n",
    "                    self.best_route = route\n",
    "            if iteration % self.print_at_iteration == 0:\n",
    "                print(f\"Iteration {iteration+1}/{self.num_iterations}, Best Distance: {self.best_distance}\")\n",
    "        return self.best_route, self.best_distance\n",
    "\n",
    "    def construct_solutions(self) -> List[List[int]]:\n",
    "        all_routes = []\n",
    "        for _ in range(self.num_ants):\n",
    "            route = [np.random.randint(self.num_nodes)]\n",
    "            while len(route) < self.num_nodes:\n",
    "                distances = self.distance(route[-1])\n",
    "                move_prob = self.pheromone[route[-1], :] ** self.alpha * (1.0 / distances) ** self.beta\n",
    "                move_prob[list(route)] = 0\n",
    "                if move_prob.sum() == 0:\n",
    "                    move_prob = np.ones(self.num_nodes)\n",
    "                    move_prob[list(route)] = 0\n",
    "                move_prob /= move_prob.sum()\n",
    "                next_node = np.random.choice(range(self.num_nodes), p=move_prob)\n",
    "                route.append(next_node)\n",
    "            all_routes.append(route)\n",
    "        return all_routes\n",
    "\n",
    "    def distance(self, node: int) -> np.ndarray:\n",
    "        distances = np.zeros(self.num_nodes)\n",
    "        for i in range(self.num_nodes):\n",
    "            if i != node:\n",
    "                distances[i] = np.sqrt((self.coordinates[node][0] - self.coordinates[i][0]) ** 2 + (self.coordinates[node][1] - self.coordinates[i][1]) ** 2)\n",
    "        return distances + 1e-10\n",
    "\n",
    "    def update_pheromones(self, all_routes: List[List[int]]) -> None:\n",
    "        self.pheromone *= (1 - self.evaporation_rate)\n",
    "        for route in all_routes:\n",
    "            distance = self.func(self.coordinates, route)\n",
    "            for i in range(len(route) - 1):\n",
    "                if self.optimize_for == \"min\":\n",
    "                    self.pheromone[route[i], route[i + 1]] += self.pheromone_deposit / distance\n",
    "                else:\n",
    "                    self.pheromone[route[i], route[i + 1]] += distance / self.pheromone_deposit\n",
    "\n",
    "# Example usage\n",
    "def tsp_distance(coordinates: List[Tuple[float, float]], route: List[int]) -> float:\n",
    "    distance = 0.0\n",
    "    for i in range(len(route) - 1):\n",
    "        distance += np.sqrt((coordinates[route[i]][0] - coordinates[route[i + 1]][0]) ** 2 + (coordinates[route[i]][1] - coordinates[route[i + 1]][1]) ** 2)\n",
    "    distance += np.sqrt((coordinates[route[-1]][0] - coordinates[route[0]][0]) ** 2 + (coordinates[route[-1]][1] - coordinates[route[0]][1]) ** 2)\n",
    "    return distance\n",
    "\n",
    "\n"
   ]
  },
  {
   "cell_type": "code",
   "outputs": [
    {
     "name": "stdout",
     "output_type": "stream",
     "text": [
      "Iteration 1/500, Best Distance: 14.142135623730951\n",
      "Iteration 51/500, Best Distance: 16.970562748477143\n",
      "Iteration 101/500, Best Distance: 16.970562748477143\n",
      "Iteration 151/500, Best Distance: 16.970562748477143\n",
      "Iteration 201/500, Best Distance: 16.970562748477143\n",
      "Iteration 251/500, Best Distance: 16.970562748477143\n",
      "Iteration 301/500, Best Distance: 16.970562748477143\n",
      "Iteration 351/500, Best Distance: 16.970562748477143\n",
      "Iteration 401/500, Best Distance: 16.970562748477143\n",
      "Iteration 451/500, Best Distance: 16.970562748477143\n",
      "Best Route: [4, 0, 3, 2, 1], Best Distance: 16.970562748477143\n"
     ]
    }
   ],
   "source": [
    "num_nodes = 5\n",
    "coordinates: List[Tuple[float, float]] = [(_,_) for _ in range(num_nodes)]\n",
    "num_ants = 20\n",
    "num_iterations = 500\n",
    "\n",
    "# Optimize for minimum\n",
    "aco_min = AntColonyOptimization(tsp_distance, num_nodes, coordinates, num_ants, num_iterations, optimize_for=\"max\",print_at_iteration=50)\n",
    "best_route, best_distance = aco_min.run()\n",
    "print(f\"Best Route: {best_route}, Best Distance: {best_distance}\")"
   ],
   "metadata": {
    "collapsed": false,
    "ExecuteTime": {
     "end_time": "2024-07-23T18:41:17.545925400Z",
     "start_time": "2024-07-23T18:41:16.325954200Z"
    }
   },
   "id": "d8ba6b18f767d4b",
   "execution_count": 86
  }
 ],
 "metadata": {
  "kernelspec": {
   "display_name": "Python 3",
   "language": "python",
   "name": "python3"
  },
  "language_info": {
   "codemirror_mode": {
    "name": "ipython",
    "version": 2
   },
   "file_extension": ".py",
   "mimetype": "text/x-python",
   "name": "python",
   "nbconvert_exporter": "python",
   "pygments_lexer": "ipython2",
   "version": "2.7.6"
  }
 },
 "nbformat": 4,
 "nbformat_minor": 5
}
