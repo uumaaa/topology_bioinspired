{
 "cells": [
  {
   "cell_type": "code",
   "execution_count": null,
   "id": "initial_id",
   "metadata": {
    "collapsed": true,
    "is_executing": true
   },
   "outputs": [],
   "source": [
    "\n"
   ]
  },
  {
   "cell_type": "code",
   "execution_count": 86,
   "id": "d8ba6b18f767d4b",
   "metadata": {
    "ExecuteTime": {
     "end_time": "2024-07-23T18:41:17.545925400Z",
     "start_time": "2024-07-23T18:41:16.325954200Z"
    },
    "collapsed": false
   },
   "outputs": [
    {
     "name": "stdout",
     "output_type": "stream",
     "text": [
      "Iteration 1/500, Best Distance: 14.142135623730951\n",
      "Iteration 51/500, Best Distance: 16.970562748477143\n",
      "Iteration 101/500, Best Distance: 16.970562748477143\n",
      "Iteration 151/500, Best Distance: 16.970562748477143\n",
      "Iteration 201/500, Best Distance: 16.970562748477143\n",
      "Iteration 251/500, Best Distance: 16.970562748477143\n",
      "Iteration 301/500, Best Distance: 16.970562748477143\n",
      "Iteration 351/500, Best Distance: 16.970562748477143\n",
      "Iteration 401/500, Best Distance: 16.970562748477143\n",
      "Iteration 451/500, Best Distance: 16.970562748477143\n",
      "Best Route: [4, 0, 3, 2, 1], Best Distance: 16.970562748477143\n"
     ]
    }
   ],
   "source": []
  }
 ],
 "metadata": {
  "kernelspec": {
   "display_name": "Python 3",
   "language": "python",
   "name": "python3"
  },
  "language_info": {
   "codemirror_mode": {
    "name": "ipython",
    "version": 2
   },
   "file_extension": ".py",
   "mimetype": "text/x-python",
   "name": "python",
   "nbconvert_exporter": "python",
   "pygments_lexer": "ipython2",
   "version": "2.7.6"
  }
 },
 "nbformat": 4,
 "nbformat_minor": 5
}
